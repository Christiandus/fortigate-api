{
 "cells": [
  {
   "cell_type": "markdown",
   "source": [
    "# fortigate_api usage examples\n"
   ],
   "metadata": {
    "collapsed": false,
    "pycharm": {
     "name": "#%% md\n"
    }
   }
  },
  {
   "cell_type": "markdown",
   "source": [
    "### Imports\n",
    "FortigateAPI - Python package to get data from the Fortigate and to configure them"
   ],
   "metadata": {
    "collapsed": false
   }
  },
  {
   "cell_type": "code",
   "execution_count": 1,
   "outputs": [],
   "source": [
    "from pprint import pprint\n",
    "\n",
    "from fortigate_api.api import FortigateAPI\n"
   ],
   "metadata": {
    "collapsed": false,
    "pycharm": {
     "name": "#%%\n"
    }
   }
  },
  {
   "cell_type": "markdown",
   "source": [
    "### Create firewall connector object\n",
    "fgt = FortigateAPI(host=\"hostname\", username=\"admin\", password=\"secret\")"
   ],
   "metadata": {
    "collapsed": false
   }
  },
  {
   "cell_type": "code",
   "execution_count": 2,
   "outputs": [
    {
     "name": "stdout",
     "output_type": "stream",
     "text": [
      "fgt=fortigate vdom=root\n"
     ]
    }
   ],
   "source": [
    "fgt = FortigateAPI(host=\"hostname\", username=\"admin\", password=\"secret\")\n",
    "print(f\"{fgt=}\")\n"
   ],
   "metadata": {
    "collapsed": false,
    "pycharm": {
     "name": "#%%\n"
    }
   }
  },
  {
   "cell_type": "markdown",
   "source": [
    "### Get all addresses from Fortigate\n",
    "addresses = fgt.address.get()"
   ],
   "metadata": {
    "collapsed": false,
    "pycharm": {
     "name": "#%% md\n"
    }
   }
  },
  {
   "cell_type": "code",
   "execution_count": 3,
   "outputs": [
    {
     "name": "stdout",
     "output_type": "stream",
     "text": [
      "{'allow-routing': 'disable',\n",
      " 'associated-interface': '',\n",
      " 'cache-ttl': 0,\n",
      " 'clearpass-spt': 'unknown',\n",
      " 'color': 0,\n",
      " 'comment': '',\n",
      " 'country': '',\n",
      " 'end-mac': '00:00:00:00:00:00',\n",
      " 'fabric-object': 'disable',\n",
      " 'filter': '',\n",
      " 'fsso-group': [],\n",
      " 'interface': '',\n",
      " 'list': [],\n",
      " 'name': '10.0.0.0/8',\n",
      " 'obj-id': '',\n",
      " 'obj-type': 'ip',\n",
      " 'q_origin_key': '10.0.0.0/8',\n",
      " 'sdn': '',\n",
      " 'sdn-addr-type': 'private',\n",
      " 'start-mac': '00:00:00:00:00:00',\n",
      " 'sub-type': 'sdn',\n",
      " 'subnet': '10.0.0.0 255.0.0.0',\n",
      " 'tagging': [],\n",
      " 'type': 'ipmask',\n",
      " 'uuid': 'f6652303-4b2e-61ec-cce2-466b78ff1673'}\n"
     ]
    }
   ],
   "source": [
    "# if Fortigate has addresses, than print first\n",
    "if addresses := fgt.address.get():\n",
    "    pprint(addresses[0])\n"
   ],
   "metadata": {
    "collapsed": false,
    "pycharm": {
     "name": "#%%\n"
    }
   }
  },
  {
   "cell_type": "markdown",
   "source": [
    "### Create address on Fortigate\n",
    "response = fgt.address.create(data=dictionary)"
   ],
   "metadata": {
    "collapsed": false
   }
  },
  {
   "cell_type": "code",
   "execution_count": 4,
   "outputs": [
    {
     "name": "stdout",
     "output_type": "stream",
     "text": [
      "response=<Response [200]>\n"
     ]
    }
   ],
   "source": [
    "# if on Fortigate no address with  name, than create it\n",
    "if not fgt.address.get(name=\"172.0.0.100/30\"):\n",
    "    data = dict(type=\"ipmask\", name=\"172.0.0.100/30\", subnet=\"172.0.0.100 255.255.255.252\")\n",
    "    response = fgt.address.create(data=data)\n",
    "    print(f\"{response=}\")\n"
   ],
   "metadata": {
    "collapsed": false,
    "pycharm": {
     "name": "#%%\n"
    }
   }
  },
  {
   "cell_type": "markdown",
   "source": [
    "### Get one address by name\n",
    "addresses = fgt.address.get(name=string)"
   ],
   "metadata": {
    "collapsed": false
   }
  },
  {
   "cell_type": "code",
   "execution_count": 5,
   "outputs": [
    {
     "name": "stdout",
     "output_type": "stream",
     "text": [
      "[{'allow-routing': 'disable',\n",
      "  'associated-interface': '',\n",
      "  'cache-ttl': 0,\n",
      "  'clearpass-spt': 'unknown',\n",
      "  'color': 0,\n",
      "  'comment': '',\n",
      "  'country': '',\n",
      "  'end-mac': '00:00:00:00:00:00',\n",
      "  'fabric-object': 'disable',\n",
      "  'filter': '',\n",
      "  'fsso-group': [],\n",
      "  'interface': '',\n",
      "  'list': [],\n",
      "  'name': '172.0.0.100/30',\n",
      "  'obj-id': '',\n",
      "  'obj-type': 'ip',\n",
      "  'q_origin_key': '172.0.0.100/30',\n",
      "  'sdn': '',\n",
      "  'sdn-addr-type': 'private',\n",
      "  'start-mac': '00:00:00:00:00:00',\n",
      "  'sub-type': 'sdn',\n",
      "  'subnet': '172.0.0.100 255.255.255.252',\n",
      "  'tagging': [],\n",
      "  'type': 'ipmask',\n",
      "  'uuid': '827ffd04-3e03-61ec-c43b-8bd08e8307f9'}]\n"
     ]
    }
   ],
   "source": [
    "address = fgt.address.get(name=\"172.0.0.100/30\")\n",
    "pprint(address)\n"
   ],
   "metadata": {
    "collapsed": false,
    "pycharm": {
     "name": "#%%\n"
    }
   }
  },
  {
   "cell_type": "markdown",
   "source": [
    "### Filter addresses by one param\n",
    "addresses = fgt.address.get(filters=string)"
   ],
   "metadata": {
    "collapsed": false
   }
  },
  {
   "cell_type": "code",
   "execution_count": 6,
   "outputs": [
    {
     "name": "stdout",
     "output_type": "stream",
     "text": [
      "[{'allow-routing': 'disable',\n",
      "  'associated-interface': '',\n",
      "  'cache-ttl': 0,\n",
      "  'clearpass-spt': 'unknown',\n",
      "  'color': 0,\n",
      "  'comment': '',\n",
      "  'country': '',\n",
      "  'end-mac': '00:00:00:00:00:00',\n",
      "  'fabric-object': 'disable',\n",
      "  'filter': '',\n",
      "  'fsso-group': [],\n",
      "  'interface': '',\n",
      "  'list': [],\n",
      "  'name': '172.0.0.100/30',\n",
      "  'obj-id': '',\n",
      "  'obj-type': 'ip',\n",
      "  'q_origin_key': '172.0.0.100/30',\n",
      "  'sdn': '',\n",
      "  'sdn-addr-type': 'private',\n",
      "  'start-mac': '00:00:00:00:00:00',\n",
      "  'sub-type': 'sdn',\n",
      "  'subnet': '172.0.0.100 255.255.255.252',\n",
      "  'tagging': [],\n",
      "  'type': 'ipmask',\n",
      "  'uuid': '827ffd04-3e03-61ec-c43b-8bd08e8307f9'}]\n"
     ]
    }
   ],
   "source": [
    "addresses = fgt.address.get(filter=\"name==172.0.0.100/30\")\n",
    "pprint(addresses)\n",
    "\n"
   ],
   "metadata": {
    "collapsed": false,
    "pycharm": {
     "name": "#%%\n"
    }
   }
  },
  {
   "cell_type": "markdown",
   "source": [
    "### Filter addresses by multiple params\n",
    "addresses = fgt.address.get(filters=list_string)"
   ],
   "metadata": {
    "collapsed": false
   }
  },
  {
   "cell_type": "code",
   "execution_count": 7,
   "outputs": [
    {
     "name": "stdout",
     "output_type": "stream",
     "text": [
      "[{'allow-routing': 'disable',\n",
      "  'associated-interface': '',\n",
      "  'cache-ttl': 0,\n",
      "  'clearpass-spt': 'unknown',\n",
      "  'color': 0,\n",
      "  'comment': '',\n",
      "  'country': '',\n",
      "  'end-mac': '00:00:00:00:00:00',\n",
      "  'fabric-object': 'disable',\n",
      "  'filter': '',\n",
      "  'fsso-group': [],\n",
      "  'interface': '',\n",
      "  'list': [],\n",
      "  'name': '172.0.0.100/30',\n",
      "  'obj-id': '',\n",
      "  'obj-type': 'ip',\n",
      "  'q_origin_key': '172.0.0.100/30',\n",
      "  'sdn': '',\n",
      "  'sdn-addr-type': 'private',\n",
      "  'start-mac': '00:00:00:00:00:00',\n",
      "  'sub-type': 'sdn',\n",
      "  'subnet': '172.0.0.100 255.255.255.252',\n",
      "  'tagging': [],\n",
      "  'type': 'ipmask',\n",
      "  'uuid': '827ffd04-3e03-61ec-c43b-8bd08e8307f9'}]\n"
     ]
    }
   ],
   "source": [
    "addresses = fgt.address.get(filters=[\"name==172.0.0.100/30\", \"type==ipmask\"])\n",
    "pprint(addresses)\n"
   ],
   "metadata": {
    "collapsed": false,
    "pycharm": {
     "name": "#%%\n"
    }
   }
  },
  {
   "cell_type": "markdown",
   "source": [
    "### Delete one address from Fortigate\n",
    "response = fgt.address.delete(name=string)"
   ],
   "metadata": {
    "collapsed": false,
    "pycharm": {
     "name": "#%% md\n"
    }
   }
  },
  {
   "cell_type": "code",
   "execution_count": 8,
   "outputs": [
    {
     "name": "stdout",
     "output_type": "stream",
     "text": [
      "response=<Response [200]>\n"
     ]
    }
   ],
   "source": [
    "response = fgt.address.delete(name=\"172.0.0.100/30\")\n",
    "print(f\"{response=}\")"
   ],
   "metadata": {
    "collapsed": false,
    "pycharm": {
     "name": "#%%\n"
    }
   }
  }
 ],
 "metadata": {
  "kernelspec": {
   "display_name": "Python 3",
   "language": "python",
   "name": "python3"
  },
  "language_info": {
   "codemirror_mode": {
    "name": "ipython",
    "version": 2
   },
   "file_extension": ".py",
   "mimetype": "text/x-python",
   "name": "python",
   "nbconvert_exporter": "python",
   "pygments_lexer": "ipython2",
   "version": "2.7.6"
  }
 },
 "nbformat": 4,
 "nbformat_minor": 0
}